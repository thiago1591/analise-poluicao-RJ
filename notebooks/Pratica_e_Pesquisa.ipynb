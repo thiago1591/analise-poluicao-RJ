{
  "nbformat": 4,
  "nbformat_minor": 0,
  "metadata": {
    "colab": {
      "provenance": []
    },
    "kernelspec": {
      "name": "python3",
      "display_name": "Python 3"
    },
    "language_info": {
      "name": "python"
    },
    "gpuClass": "standard"
  },
  "cells": [
    {
      "cell_type": "code",
      "execution_count": null,
      "metadata": {
        "id": "5aQ-DI1QznkU"
      },
      "outputs": [],
      "source": [
        "import pandas as pd\n",
        "import numpy as np\n",
        "import matplotlib.pyplot as plt\n",
        "\n",
        "dst0 = pd.read_parquet(\"/content/drive/MyDrive/datasets/pratica e pesquisa/DST-0/G1-2022-02-10.parquet\")\n",
        "dstA = pd.read_parquet(\"/content/drive/MyDrive/datasets/pratica e pesquisa/DST-A/G1-2022-02-10.parquet\")\n",
        "dstB = pd.read_parquet(\"/content/drive/MyDrive/datasets/pratica e pesquisa/DST-B/G1-2022-02-10.parquet\")\n",
        "dstC = pd.read_parquet(\"/content/drive/MyDrive/datasets/pratica e pesquisa/DST-C/G1-2022-02-10.parquet\")\n",
        "dstD = pd.read_parquet(\"/content/drive/MyDrive/datasets/pratica e pesquisa/DST-D/G1-2022-02-10.parquet\")\n",
        "dstE = pd.read_parquet(\"/content/drive/MyDrive/datasets/pratica e pesquisa/DST-E/G1-2022-02-10.parquet\")"
      ]
    },
    {
      "cell_type": "code",
      "source": [
        "#merge dos DSTs\n",
        "interval = dstD[['ID', 'INTERVAL']]\n",
        "neighborhood = dstB[['ID', 'CODBAIRRO']]\n",
        "df = pd.merge(dstE, interval, on='ID', how='left')\n",
        "df = pd.merge(df, neighborhood, on='ID', how='left')\n",
        "df['INTERVAL'] = df['INTERVAL'].dt.total_seconds()\n",
        "dstA"
      ],
      "metadata": {
        "id": "3RD6oUx15EnM"
      },
      "execution_count": null,
      "outputs": []
    },
    {
      "cell_type": "code",
      "source": [
        "#calcular poluicao\n",
        "df['CO2_total'] = np.multiply(df['CO_2'], df['INTERVAL'])\n",
        "df['CO_total'] = np.multiply(df['CO'], df['INTERVAL'])\n",
        "df['NO_x_total'] = np.multiply(df['NO_x'], df['INTERVAL'])\n"
      ],
      "metadata": {
        "id": "TC6m5adX5TIS"
      },
      "execution_count": null,
      "outputs": []
    },
    {
      "cell_type": "code",
      "source": [
        "#sub datasets\n",
        "df_co2 = df.loc[:, ['ID', 'CODBAIRRO', 'CO2_total']]\n",
        "df_co = df.loc[:, ['ID', 'CODBAIRRO', 'CO_total']]\n",
        "df_nox = df.loc[:, ['ID', 'CODBAIRRO', 'NO_x_total']]"
      ],
      "metadata": {
        "id": "uhalHpymUT0K"
      },
      "execution_count": null,
      "outputs": []
    },
    {
      "cell_type": "code",
      "source": [
        "#calculando media\n",
        "df_co2_media = df_co2.groupby('CODBAIRRO').mean().round()\n",
        "df_co2_media = df_co2_media.rename(columns={'CO2_total': 'MEDIA_CO2'})\n",
        "df_co2_media = df_co2_media.reset_index()\n",
        "\n",
        "df_co_media = df_co.groupby('CODBAIRRO').mean().round()\n",
        "df_co_media = df_co_media.rename(columns={'CO_total': 'MEDIA_CO'})\n",
        "\n",
        "df_nox_media = df_co.groupby('CODBAIRRO').mean().round()\n",
        "df_nox_media = df_co_media.rename(columns={'NO_x_total': 'MEDIA_NO_x'})"
      ],
      "metadata": {
        "id": "MqXIbWcwVYh4"
      },
      "execution_count": null,
      "outputs": []
    },
    {
      "cell_type": "code",
      "source": [
        "  #grafico de barras\n",
        "  df_co2_media = df_co2_media.head(10)\n",
        "  plt.bar(df_co2_media['CODBAIRRO'], df_co2_media['MEDIA_CO2'])\n",
        "  plt.xlabel('ID do Bairro')\n",
        "  plt.ylabel('gramas de CO2')\n",
        "  #plt.bar(df_co_media['CODBAIRRO'], df['MEDIA_CO'])"
      ],
      "metadata": {
        "id": "WWu_AlSpkfBV",
        "colab": {
          "base_uri": "https://localhost:8080/",
          "height": 467
        },
        "outputId": "b77b3839-6339-4711-c8ac-a1c8902c92c8"
      },
      "execution_count": null,
      "outputs": [
        {
          "output_type": "execute_result",
          "data": {
            "text/plain": [
              "Text(0, 0.5, 'gramas de CO2')"
            ]
          },
          "metadata": {},
          "execution_count": 6
        },
        {
          "output_type": "display_data",
          "data": {
            "text/plain": [
              "<Figure size 640x480 with 1 Axes>"
            ],
            "image/png": "[encoded data removed]"
          },
          "metadata": {}
        }
      ]
    },
    {
      "cell_type": "code",
      "source": [
        "#merge latitude e longitude\n",
        "interval = dstD[['ID', 'INTERVAL']]"
      ],
      "metadata": {
        "id": "JU2VRX9aovMk"
      },
      "execution_count": null,
      "outputs": []
    },
    {
      "cell_type": "code",
      "source": [],
      "metadata": {
        "id": "oR31TCn-0Ev-"
      },
      "execution_count": null,
      "outputs": []
    }
  ]
}